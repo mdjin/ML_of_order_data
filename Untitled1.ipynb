{
 "cells": [
  {
   "cell_type": "code",
   "execution_count": 1,
   "id": "f92aa065",
   "metadata": {},
   "outputs": [
    {
     "name": "stdout",
     "output_type": "stream",
     "text": [
      "hello world\n"
     ]
    }
   ],
   "source": [
    "print(\"hello world\")"
   ]
  },
  {
   "cell_type": "code",
   "execution_count": 4,
   "id": "79229627",
   "metadata": {},
   "outputs": [],
   "source": [
    "import os"
   ]
  },
  {
   "cell_type": "code",
   "execution_count": 6,
   "id": "dbebc0ea",
   "metadata": {},
   "outputs": [],
   "source": [
    "data_dir = 'data'\n",
    "model_dir = 'models'\n",
    "\n",
    "input_dir = os.path.join(data_dir, '00_input')\n",
    "store_monthly_dir = os.path.join(data_dir, '01_store_monthly')\n",
    "ml_base_dir = os.path.join(data_dir, '02_ml_base')\n",
    "output_ml_result_dir = os.path.join(data_dir, '10_output_ml_result')\n",
    "output_report_dir = os.path.join(data_dir, '11_output_report')\n",
    "master_dir = os.path.join(data_dir, '99_master')\n",
    "\n",
    "os.makedirs(input_dir, exist_ok=True)\n",
    "os.makedirs(store_monthly_dir, exist_ok=True)\n",
    "os.makedirs(ml_base_dir,exist_ok=True)\n",
    "os.makedirs(output_ml_result_dir,exist_ok=True)\n",
    "os.makedirs(output_report_dir,exist_ok=True)\n",
    "os.makedirs(master_dir,exist_ok=True)\n",
    "os.makedirs(model_dir,exist_ok=True)"
   ]
  },
  {
   "cell_type": "code",
   "execution_count": 11,
   "id": "a10a6983",
   "metadata": {},
   "outputs": [
    {
     "data": {
      "text/plain": [
       "['data\\\\00_input\\\\tbl_order_202004.csv',\n",
       " 'data\\\\00_input\\\\tbl_order_202005.csv',\n",
       " 'data\\\\00_input\\\\tbl_order_202006.csv',\n",
       " 'data\\\\00_input\\\\tbl_order_202007.csv',\n",
       " 'data\\\\00_input\\\\tbl_order_202008.csv',\n",
       " 'data\\\\00_input\\\\tbl_order_202009.csv',\n",
       " 'data\\\\00_input\\\\tbl_order_202010.csv',\n",
       " 'data\\\\00_input\\\\tbl_order_202011.csv',\n",
       " 'data\\\\00_input\\\\tbl_order_202012.csv',\n",
       " 'data\\\\00_input\\\\tbl_order_202101.csv',\n",
       " 'data\\\\00_input\\\\tbl_order_202102.csv',\n",
       " 'data\\\\00_input\\\\tbl_order_202103.csv']"
      ]
     },
     "execution_count": 11,
     "metadata": {},
     "output_type": "execute_result"
    }
   ],
   "source": [
    "import glob\n",
    "tbl_order_file = os.path.join(input_dir, 'tbl_order_*.csv')\n",
    "tbl_order_paths = glob.glob(tbl_order_file)\n",
    "tbl_order_paths"
   ]
  },
  {
   "cell_type": "code",
   "execution_count": 12,
   "id": "93eb76ab",
   "metadata": {},
   "outputs": [],
   "source": [
    "os.makedirs(os.path.join('models', 'trial'), exist_ok=True)"
   ]
  },
  {
   "cell_type": "code",
   "execution_count": 13,
   "id": "d150eaaa",
   "metadata": {},
   "outputs": [],
   "source": [
    "os.makedirs(os.path.join('trial', 'folder'), exist_ok=True)"
   ]
  },
  {
   "cell_type": "code",
   "execution_count": 14,
   "id": "cc5fd3c9",
   "metadata": {},
   "outputs": [
    {
     "data": {
      "text/html": [
       "<div>\n",
       "<style scoped>\n",
       "    .dataframe tbody tr th:only-of-type {\n",
       "        vertical-align: middle;\n",
       "    }\n",
       "\n",
       "    .dataframe tbody tr th {\n",
       "        vertical-align: top;\n",
       "    }\n",
       "\n",
       "    .dataframe thead th {\n",
       "        text-align: right;\n",
       "    }\n",
       "</style>\n",
       "<table border=\"1\" class=\"dataframe\">\n",
       "  <thead>\n",
       "    <tr style=\"text-align: right;\">\n",
       "      <th></th>\n",
       "      <th>area_cd</th>\n",
       "      <th>wide_area</th>\n",
       "      <th>narrow_area</th>\n",
       "    </tr>\n",
       "  </thead>\n",
       "  <tbody>\n",
       "    <tr>\n",
       "      <th>0</th>\n",
       "      <td>SL</td>\n",
       "      <td>서울</td>\n",
       "      <td>서울</td>\n",
       "    </tr>\n",
       "    <tr>\n",
       "      <th>1</th>\n",
       "      <td>BS</td>\n",
       "      <td>부산</td>\n",
       "      <td>부산</td>\n",
       "    </tr>\n",
       "    <tr>\n",
       "      <th>2</th>\n",
       "      <td>DJ</td>\n",
       "      <td>대전</td>\n",
       "      <td>대전</td>\n",
       "    </tr>\n",
       "  </tbody>\n",
       "</table>\n",
       "</div>"
      ],
      "text/plain": [
       "  area_cd wide_area narrow_area\n",
       "0      SL        서울          서울\n",
       "1      BS        부산          부산\n",
       "2      DJ        대전          대전"
      ]
     },
     "execution_count": 14,
     "metadata": {},
     "output_type": "execute_result"
    }
   ],
   "source": [
    "import pandas as pd\n",
    "m_area_file = 'm_area.csv'\n",
    "m_store_file = 'm_store.csv'\n",
    "m_area = pd.read_csv(os.path.join(master_dir, m_area_file))\n",
    "m_store = pd.read_csv(os.path.join(master_dir, m_store_file))\n",
    "m_area.head(3)"
   ]
  },
  {
   "cell_type": "code",
   "execution_count": null,
   "id": "acfc7253",
   "metadata": {},
   "outputs": [],
   "source": []
  }
 ],
 "metadata": {
  "kernelspec": {
   "display_name": "Python 3 (ipykernel)",
   "language": "python",
   "name": "python3"
  },
  "language_info": {
   "codemirror_mode": {
    "name": "ipython",
    "version": 3
   },
   "file_extension": ".py",
   "mimetype": "text/x-python",
   "name": "python",
   "nbconvert_exporter": "python",
   "pygments_lexer": "ipython3",
   "version": "3.9.13"
  }
 },
 "nbformat": 4,
 "nbformat_minor": 5
}
